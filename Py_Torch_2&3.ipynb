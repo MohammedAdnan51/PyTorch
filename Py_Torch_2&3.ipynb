{
  "nbformat": 4,
  "nbformat_minor": 0,
  "metadata": {
    "colab": {
      "provenance": [],
      "authorship_tag": "ABX9TyPUOU+x3BENldL/kC3Yo07z",
      "include_colab_link": true
    },
    "kernelspec": {
      "name": "python3",
      "display_name": "Python 3"
    },
    "language_info": {
      "name": "python"
    }
  },
  "cells": [
    {
      "cell_type": "markdown",
      "metadata": {
        "id": "view-in-github",
        "colab_type": "text"
      },
      "source": [
        "<a href=\"https://colab.research.google.com/github/MohammedAdnan51/PyTorch/blob/main/Py_Torch_2%263.ipynb\" target=\"_parent\"><img src=\"https://colab.research.google.com/assets/colab-badge.svg\" alt=\"Open In Colab\"/></a>"
      ]
    },
    {
      "cell_type": "code",
      "execution_count": 1,
      "metadata": {
        "colab": {
          "base_uri": "https://localhost:8080/"
        },
        "id": "C4YWrEwkBALH",
        "outputId": "ad3500e8-b849-4df9-e780-b386a45ae6f1"
      },
      "outputs": [
        {
          "output_type": "stream",
          "name": "stdout",
          "text": [
            "2.1.0+cu121\n"
          ]
        }
      ],
      "source": [
        "import torch\n",
        "import pandas as pd\n",
        "import numpy as np\n",
        "import matplotlib as plt\n",
        "print(torch.__version__)\n"
      ]
    },
    {
      "cell_type": "markdown",
      "source": [
        "Creating Range of Tensors"
      ],
      "metadata": {
        "id": "O7KVCOpoHd9H"
      }
    },
    {
      "cell_type": "code",
      "source": [
        "one_to_ten = torch.arange(1,11)\n",
        "one_to_ten"
      ],
      "metadata": {
        "colab": {
          "base_uri": "https://localhost:8080/"
        },
        "id": "DmIbDr7aHeQV",
        "outputId": "d1fce585-bdbe-4b84-b849-ae6a1edef8ed"
      },
      "execution_count": 2,
      "outputs": [
        {
          "output_type": "execute_result",
          "data": {
            "text/plain": [
              "tensor([ 1,  2,  3,  4,  5,  6,  7,  8,  9, 10])"
            ]
          },
          "metadata": {},
          "execution_count": 2
        }
      ]
    },
    {
      "cell_type": "code",
      "source": [
        "range_tensors=torch.arange(start=0,end=1000,step=120)\n",
        "range_tensors"
      ],
      "metadata": {
        "colab": {
          "base_uri": "https://localhost:8080/"
        },
        "id": "IBvttINLH4rs",
        "outputId": "fe6b41d7-62d0-4a83-b933-f7ad2d33c213"
      },
      "execution_count": 3,
      "outputs": [
        {
          "output_type": "execute_result",
          "data": {
            "text/plain": [
              "tensor([  0, 120, 240, 360, 480, 600, 720, 840, 960])"
            ]
          },
          "metadata": {},
          "execution_count": 3
        }
      ]
    },
    {
      "cell_type": "code",
      "source": [
        "#creating tensors Like\n",
        "ten_zeroes=torch.zeros_like(input=one_to_ten)\n",
        "ten_zeroes"
      ],
      "metadata": {
        "colab": {
          "base_uri": "https://localhost:8080/"
        },
        "id": "VPAdHBY7H4-H",
        "outputId": "ebfdf62e-29de-4853-aa6a-49ee73a79db2"
      },
      "execution_count": 4,
      "outputs": [
        {
          "output_type": "execute_result",
          "data": {
            "text/plain": [
              "tensor([0, 0, 0, 0, 0, 0, 0, 0, 0, 0])"
            ]
          },
          "metadata": {},
          "execution_count": 4
        }
      ]
    },
    {
      "cell_type": "markdown",
      "source": [
        "Tensor datatypes"
      ],
      "metadata": {
        "id": "NURM4BX6E5CK"
      }
    },
    {
      "cell_type": "code",
      "source": [],
      "metadata": {
        "id": "66kXPm1aI_CJ"
      },
      "execution_count": 4,
      "outputs": []
    },
    {
      "cell_type": "code",
      "source": [
        "#flaot 32 tensor\n",
        "float_32_tensor = torch.tensor([3.0,6.0,9.0],dtype=None,\n",
        "                               device=None,\n",
        "                               requires_grad=False)\n",
        "float_32_tensor"
      ],
      "metadata": {
        "colab": {
          "base_uri": "https://localhost:8080/"
        },
        "id": "uQP6c_8dFEWh",
        "outputId": "1e34fede-562e-495d-825c-1c0beba611d0"
      },
      "execution_count": 5,
      "outputs": [
        {
          "output_type": "execute_result",
          "data": {
            "text/plain": [
              "tensor([3., 6., 9.])"
            ]
          },
          "metadata": {},
          "execution_count": 5
        }
      ]
    },
    {
      "cell_type": "code",
      "source": [
        "float_32_tensor.dtype"
      ],
      "metadata": {
        "colab": {
          "base_uri": "https://localhost:8080/"
        },
        "id": "KV8ha7SYGPYk",
        "outputId": "04ebba1e-4603-4aca-8130-03df0c0b2253"
      },
      "execution_count": 6,
      "outputs": [
        {
          "output_type": "execute_result",
          "data": {
            "text/plain": [
              "torch.float32"
            ]
          },
          "metadata": {},
          "execution_count": 6
        }
      ]
    },
    {
      "cell_type": "code",
      "source": [
        "float_16_tensor=float_32_tensor.type(torch.float16)\n",
        "float_16_tensor"
      ],
      "metadata": {
        "colab": {
          "base_uri": "https://localhost:8080/"
        },
        "id": "FfVyXvRZLMM8",
        "outputId": "cd233880-b9d5-492e-fadb-ff366d808dd8"
      },
      "execution_count": 7,
      "outputs": [
        {
          "output_type": "execute_result",
          "data": {
            "text/plain": [
              "tensor([3., 6., 9.], dtype=torch.float16)"
            ]
          },
          "metadata": {},
          "execution_count": 7
        }
      ]
    },
    {
      "cell_type": "code",
      "source": [
        "float_16_tensor * float_32_tensor"
      ],
      "metadata": {
        "colab": {
          "base_uri": "https://localhost:8080/"
        },
        "id": "uxD7fFzaLnjQ",
        "outputId": "e79f9319-8632-431c-a687-c6fe98722e25"
      },
      "execution_count": 8,
      "outputs": [
        {
          "output_type": "execute_result",
          "data": {
            "text/plain": [
              "tensor([ 9., 36., 81.])"
            ]
          },
          "metadata": {},
          "execution_count": 8
        }
      ]
    },
    {
      "cell_type": "code",
      "source": [
        "int_32_tensor=torch.tensor([3,6,9],dtype=torch.int64)\n",
        "int_32_tensor"
      ],
      "metadata": {
        "colab": {
          "base_uri": "https://localhost:8080/"
        },
        "id": "_FVKHgfpM9bB",
        "outputId": "b08c9bfc-53af-458b-cdb8-b21fc7c681d6"
      },
      "execution_count": 9,
      "outputs": [
        {
          "output_type": "execute_result",
          "data": {
            "text/plain": [
              "tensor([3, 6, 9])"
            ]
          },
          "metadata": {},
          "execution_count": 9
        }
      ]
    },
    {
      "cell_type": "code",
      "source": [
        "float_32_tensor * int_32_tensor\n"
      ],
      "metadata": {
        "colab": {
          "base_uri": "https://localhost:8080/"
        },
        "id": "hi1yX4LdU2T8",
        "outputId": "cbe708a7-2bbe-4af9-9ef8-32e259a9e7f4"
      },
      "execution_count": 10,
      "outputs": [
        {
          "output_type": "execute_result",
          "data": {
            "text/plain": [
              "tensor([ 9., 36., 81.])"
            ]
          },
          "metadata": {},
          "execution_count": 10
        }
      ]
    },
    {
      "cell_type": "markdown",
      "source": [
        "###Getting Information from sensors\n",
        "### tensor.dtype , tensor.shape ,tensor.device"
      ],
      "metadata": {
        "id": "kw9uNzEHVLAE"
      }
    },
    {
      "cell_type": "code",
      "source": [
        "some_tensor=torch.rand(3,4)\n",
        "some_tensor"
      ],
      "metadata": {
        "colab": {
          "base_uri": "https://localhost:8080/"
        },
        "id": "KRHXUsdpVsfq",
        "outputId": "03d5b3ee-0370-4708-f029-fdf1cfa9c226"
      },
      "execution_count": 11,
      "outputs": [
        {
          "output_type": "execute_result",
          "data": {
            "text/plain": [
              "tensor([[0.2703, 0.9421, 0.1965, 0.2979],\n",
              "        [0.9870, 0.4101, 0.5623, 0.9565],\n",
              "        [0.7442, 0.9450, 0.7584, 0.7895]])"
            ]
          },
          "metadata": {},
          "execution_count": 11
        }
      ]
    },
    {
      "cell_type": "code",
      "source": [
        "some_tensor.size, some_tensor.shape"
      ],
      "metadata": {
        "colab": {
          "base_uri": "https://localhost:8080/"
        },
        "id": "at1lhhmJWbid",
        "outputId": "af602b18-3277-4b36-fd5f-85f58675a9c3"
      },
      "execution_count": 12,
      "outputs": [
        {
          "output_type": "execute_result",
          "data": {
            "text/plain": [
              "(<function Tensor.size>, torch.Size([3, 4]))"
            ]
          },
          "metadata": {},
          "execution_count": 12
        }
      ]
    },
    {
      "cell_type": "code",
      "source": [
        "some_tensor.size()"
      ],
      "metadata": {
        "colab": {
          "base_uri": "https://localhost:8080/"
        },
        "id": "Z77MZ-IGWkyz",
        "outputId": "6cd63507-3852-46de-d76a-74233856f8f0"
      },
      "execution_count": 13,
      "outputs": [
        {
          "output_type": "execute_result",
          "data": {
            "text/plain": [
              "torch.Size([3, 4])"
            ]
          },
          "metadata": {},
          "execution_count": 13
        }
      ]
    },
    {
      "cell_type": "code",
      "source": [
        "#finding details of tensors\n",
        "print(some_tensor)\n",
        "print(f\"Datatype of tensor: {some_tensor.dtype}\")\n",
        "print(f\"Shape of tensor: {some_tensor.shape}\")\n",
        "print(f\"Device tensor is on: {some_tensor.device}\")"
      ],
      "metadata": {
        "colab": {
          "base_uri": "https://localhost:8080/"
        },
        "id": "h1w7QaxUYe4i",
        "outputId": "e918c9a4-b2ad-4a40-9cb5-31deff1e0f90"
      },
      "execution_count": 14,
      "outputs": [
        {
          "output_type": "stream",
          "name": "stdout",
          "text": [
            "tensor([[0.2703, 0.9421, 0.1965, 0.2979],\n",
            "        [0.9870, 0.4101, 0.5623, 0.9565],\n",
            "        [0.7442, 0.9450, 0.7584, 0.7895]])\n",
            "Datatype of tensor: torch.float32\n",
            "Shape of tensor: torch.Size([3, 4])\n",
            "Device tensor is on: cpu\n"
          ]
        }
      ]
    },
    {
      "cell_type": "markdown",
      "source": [
        "manipulation of tensors\n",
        "\n",
        "Tensors operations include:\n",
        "\n",
        "*  Addittion\n",
        "\n",
        "*  Subraction\n",
        "\n",
        "*  Multiplication\n",
        "\n",
        "*  Division\n",
        "\n",
        "*   Matix Multiplication\n",
        "\n",
        "\n",
        "\n",
        "\n",
        "\n",
        "\n",
        "\n",
        "\n",
        "\n",
        "\n",
        "\n",
        "\n",
        "\n",
        "\n"
      ],
      "metadata": {
        "id": "O1svUrPvZO-8"
      }
    },
    {
      "cell_type": "code",
      "source": [
        "#create a tensor and add\n",
        "tensor= torch.tensor([1,2,3])\n",
        "tensor+10"
      ],
      "metadata": {
        "colab": {
          "base_uri": "https://localhost:8080/"
        },
        "id": "I4Vc75PLaXFY",
        "outputId": "f9c1bbfc-fb91-4a27-b453-ef257f356bfd"
      },
      "execution_count": 15,
      "outputs": [
        {
          "output_type": "execute_result",
          "data": {
            "text/plain": [
              "tensor([11, 12, 13])"
            ]
          },
          "metadata": {},
          "execution_count": 15
        }
      ]
    },
    {
      "cell_type": "code",
      "source": [
        "# Multiply\n",
        "tensor *10"
      ],
      "metadata": {
        "colab": {
          "base_uri": "https://localhost:8080/"
        },
        "id": "cM--Q6jKai6f",
        "outputId": "d9406159-a475-43a0-cfc6-45baea1b8330"
      },
      "execution_count": 16,
      "outputs": [
        {
          "output_type": "execute_result",
          "data": {
            "text/plain": [
              "tensor([10, 20, 30])"
            ]
          },
          "metadata": {},
          "execution_count": 16
        }
      ]
    },
    {
      "cell_type": "code",
      "source": [
        "tensor-10"
      ],
      "metadata": {
        "colab": {
          "base_uri": "https://localhost:8080/"
        },
        "id": "Q4GG8HTAathV",
        "outputId": "fa0bf89b-f7e8-45a3-ae43-565b40d04e37"
      },
      "execution_count": 17,
      "outputs": [
        {
          "output_type": "execute_result",
          "data": {
            "text/plain": [
              "tensor([-9, -8, -7])"
            ]
          },
          "metadata": {},
          "execution_count": 17
        }
      ]
    },
    {
      "cell_type": "code",
      "source": [
        "tensor /10"
      ],
      "metadata": {
        "colab": {
          "base_uri": "https://localhost:8080/"
        },
        "id": "dwWyyGdua3MD",
        "outputId": "6696b63d-6d88-4281-a585-c6abd4059c69"
      },
      "execution_count": 18,
      "outputs": [
        {
          "output_type": "execute_result",
          "data": {
            "text/plain": [
              "tensor([0.1000, 0.2000, 0.3000])"
            ]
          },
          "metadata": {},
          "execution_count": 18
        }
      ]
    },
    {
      "cell_type": "code",
      "source": [
        "#pytorch Inbuilt functions\n",
        "torch.mul(tensor,10)"
      ],
      "metadata": {
        "colab": {
          "base_uri": "https://localhost:8080/"
        },
        "id": "tPE9HfHYbEB5",
        "outputId": "55e7150a-6f32-42db-ccf2-4b9cc151f9a4"
      },
      "execution_count": 19,
      "outputs": [
        {
          "output_type": "execute_result",
          "data": {
            "text/plain": [
              "tensor([10, 20, 30])"
            ]
          },
          "metadata": {},
          "execution_count": 19
        }
      ]
    },
    {
      "cell_type": "code",
      "source": [
        "torch.add(tensor,20)"
      ],
      "metadata": {
        "colab": {
          "base_uri": "https://localhost:8080/"
        },
        "id": "speVgPNjbMns",
        "outputId": "f37f671b-da1d-4714-fc34-da39e5c0e579"
      },
      "execution_count": 20,
      "outputs": [
        {
          "output_type": "execute_result",
          "data": {
            "text/plain": [
              "tensor([21, 22, 23])"
            ]
          },
          "metadata": {},
          "execution_count": 20
        }
      ]
    },
    {
      "cell_type": "markdown",
      "source": [
        "#Matrix Multiplication\n",
        "\n",
        "Two main methods for  multiplication in neural networks and deep leaning:\n",
        "\n",
        "\n",
        "1.   Element Wise Multiplication\n",
        "2.   Matrix Multiplication(dot product)\n",
        "\n"
      ],
      "metadata": {
        "id": "aAIN_sxubjWu"
      }
    },
    {
      "cell_type": "code",
      "source": [
        "#Element multiplication\n",
        "print(tensor,'*',tensor)\n",
        "print(f\"Equals:{tensor*tensor}\")"
      ],
      "metadata": {
        "colab": {
          "base_uri": "https://localhost:8080/"
        },
        "id": "n1K5LjW4b85a",
        "outputId": "8cea6a4f-b8f8-40bc-cc96-681f4465afec"
      },
      "execution_count": 21,
      "outputs": [
        {
          "output_type": "stream",
          "name": "stdout",
          "text": [
            "tensor([1, 2, 3]) * tensor([1, 2, 3])\n",
            "Equals:tensor([1, 4, 9])\n"
          ]
        }
      ]
    },
    {
      "cell_type": "code",
      "source": [
        "#matrix Multiplication\n",
        "torch.matmul(tensor,tensor)"
      ],
      "metadata": {
        "colab": {
          "base_uri": "https://localhost:8080/"
        },
        "id": "ipujc0OscuDx",
        "outputId": "63017bfd-4101-4cb8-92e0-829a8618cbdc"
      },
      "execution_count": 22,
      "outputs": [
        {
          "output_type": "execute_result",
          "data": {
            "text/plain": [
              "tensor(14)"
            ]
          },
          "metadata": {},
          "execution_count": 22
        }
      ]
    },
    {
      "cell_type": "markdown",
      "source": [
        "#matrix multiplication by self"
      ],
      "metadata": {
        "id": "Bt-KSTPOdjoT"
      }
    },
    {
      "cell_type": "code",
      "source": [
        "%%time\n",
        "value = 0\n",
        "for i in range(len(tensor)):\n",
        "  value += tensor[i] * tensor[i]\n",
        "print(value)"
      ],
      "metadata": {
        "colab": {
          "base_uri": "https://localhost:8080/"
        },
        "id": "61Ui_izGdvWj",
        "outputId": "570052da-42b1-4700-fe3c-c72bcd72220a"
      },
      "execution_count": 23,
      "outputs": [
        {
          "output_type": "stream",
          "name": "stdout",
          "text": [
            "tensor(14)\n",
            "CPU times: user 1.62 ms, sys: 0 ns, total: 1.62 ms\n",
            "Wall time: 1.66 ms\n"
          ]
        }
      ]
    },
    {
      "cell_type": "code",
      "source": [
        "%%time\n",
        "torch.matmul(tensor,tensor)"
      ],
      "metadata": {
        "colab": {
          "base_uri": "https://localhost:8080/"
        },
        "id": "bzPpioFIeSRt",
        "outputId": "4ccee258-823a-4571-f47a-643f3f1c9512"
      },
      "execution_count": 24,
      "outputs": [
        {
          "output_type": "stream",
          "name": "stdout",
          "text": [
            "CPU times: user 1.1 ms, sys: 0 ns, total: 1.1 ms\n",
            "Wall time: 1.11 ms\n"
          ]
        },
        {
          "output_type": "execute_result",
          "data": {
            "text/plain": [
              "tensor(14)"
            ]
          },
          "metadata": {},
          "execution_count": 24
        }
      ]
    },
    {
      "cell_type": "code",
      "source": [
        "# we can also use \"@\" for matrix multiplication\n",
        "tensor @ tensor\n",
        "#torch.mm(tensor,tensor)"
      ],
      "metadata": {
        "colab": {
          "base_uri": "https://localhost:8080/"
        },
        "id": "2MYY6wA_e-h6",
        "outputId": "b21a07fa-3e32-48c9-a992-6e22404ff682"
      },
      "execution_count": 25,
      "outputs": [
        {
          "output_type": "execute_result",
          "data": {
            "text/plain": [
              "tensor(14)"
            ]
          },
          "metadata": {},
          "execution_count": 25
        }
      ]
    },
    {
      "cell_type": "markdown",
      "source": [
        "#matrix Multiplication dealing with tensor\n"
      ],
      "metadata": {
        "id": "6RuWueSUgw4S"
      }
    },
    {
      "cell_type": "code",
      "source": [
        "tensor_A =torch.tensor([[1,3],\n",
        "                       [2,4],\n",
        "                       [5,7]])\n",
        "tensor_B =torch.tensor([[2,3],\n",
        "                       [3,4],\n",
        "                       [5,6]])\n",
        "#torch.matmul(tensor_A, tensor_B)"
      ],
      "metadata": {
        "id": "479dCY5qnVV-"
      },
      "execution_count": 26,
      "outputs": []
    },
    {
      "cell_type": "markdown",
      "source": [
        "so the tensor_A and tensor_B can't be multiplied due to same shape"
      ],
      "metadata": {
        "id": "T3K1EPV05VcW"
      }
    },
    {
      "cell_type": "code",
      "source": [
        "tensor_A.shape, tensor_B.shape"
      ],
      "metadata": {
        "colab": {
          "base_uri": "https://localhost:8080/"
        },
        "id": "MrYwPk8V58m2",
        "outputId": "de5c2404-7edb-4bd2-9d7e-bd8fda98cb26"
      },
      "execution_count": 27,
      "outputs": [
        {
          "output_type": "execute_result",
          "data": {
            "text/plain": [
              "(torch.Size([3, 2]), torch.Size([3, 2]))"
            ]
          },
          "metadata": {},
          "execution_count": 27
        }
      ]
    },
    {
      "cell_type": "markdown",
      "source": [
        "#To fix this shape issue we can use transpose ."
      ],
      "metadata": {
        "id": "yX6S-FWl5_8s"
      }
    },
    {
      "cell_type": "code",
      "source": [
        "tensor_B"
      ],
      "metadata": {
        "colab": {
          "base_uri": "https://localhost:8080/"
        },
        "id": "la8Yareh6Q4J",
        "outputId": "f1a25037-bd62-4e6a-eabb-4474d7a2ca2e"
      },
      "execution_count": 28,
      "outputs": [
        {
          "output_type": "execute_result",
          "data": {
            "text/plain": [
              "tensor([[2, 3],\n",
              "        [3, 4],\n",
              "        [5, 6]])"
            ]
          },
          "metadata": {},
          "execution_count": 28
        }
      ]
    },
    {
      "cell_type": "code",
      "source": [
        "tensor_B.T"
      ],
      "metadata": {
        "colab": {
          "base_uri": "https://localhost:8080/"
        },
        "id": "KsF_DNdT6dh6",
        "outputId": "a015c345-51b6-4a36-c816-a57fe27eaa61"
      },
      "execution_count": 29,
      "outputs": [
        {
          "output_type": "execute_result",
          "data": {
            "text/plain": [
              "tensor([[2, 3, 5],\n",
              "        [3, 4, 6]])"
            ]
          },
          "metadata": {},
          "execution_count": 29
        }
      ]
    },
    {
      "cell_type": "code",
      "source": [
        "tensor_B, tensor_B.shape"
      ],
      "metadata": {
        "colab": {
          "base_uri": "https://localhost:8080/"
        },
        "id": "eEUWRVuV6iEW",
        "outputId": "ef031266-03c7-4865-bb34-a90f3cda22cd"
      },
      "execution_count": 30,
      "outputs": [
        {
          "output_type": "execute_result",
          "data": {
            "text/plain": [
              "(tensor([[2, 3],\n",
              "         [3, 4],\n",
              "         [5, 6]]),\n",
              " torch.Size([3, 2]))"
            ]
          },
          "metadata": {},
          "execution_count": 30
        }
      ]
    },
    {
      "cell_type": "code",
      "source": [
        "tensor_B.T, tensor_B.T.shape"
      ],
      "metadata": {
        "colab": {
          "base_uri": "https://localhost:8080/"
        },
        "id": "hfTuNncP6nNq",
        "outputId": "a8dbf493-6655-48f2-cdfd-7905ea54259b"
      },
      "execution_count": 31,
      "outputs": [
        {
          "output_type": "execute_result",
          "data": {
            "text/plain": [
              "(tensor([[2, 3, 5],\n",
              "         [3, 4, 6]]),\n",
              " torch.Size([2, 3]))"
            ]
          },
          "metadata": {},
          "execution_count": 31
        }
      ]
    },
    {
      "cell_type": "markdown",
      "source": [
        "#the matrix multiplication operation works when tensor_B is transposed"
      ],
      "metadata": {
        "id": "ihyzteGi63-z"
      }
    },
    {
      "cell_type": "code",
      "source": [
        "torch.matmul(tensor_A,tensor_B.T)"
      ],
      "metadata": {
        "colab": {
          "base_uri": "https://localhost:8080/"
        },
        "id": "LoZ7vdly6sIv",
        "outputId": "568b7298-ee5c-4fc2-8488-6cf1bda8ce89"
      },
      "execution_count": 32,
      "outputs": [
        {
          "output_type": "execute_result",
          "data": {
            "text/plain": [
              "tensor([[11, 15, 23],\n",
              "        [16, 22, 34],\n",
              "        [31, 43, 67]])"
            ]
          },
          "metadata": {},
          "execution_count": 32
        }
      ]
    },
    {
      "cell_type": "markdown",
      "source": [
        "### Tensor Aggregation (min, max,sum,mean,etc)"
      ],
      "metadata": {
        "id": "AooX3Uhs7a9Q"
      }
    },
    {
      "cell_type": "code",
      "source": [
        "x=torch.arange(1,100,11)\n",
        "x,x.dtype"
      ],
      "metadata": {
        "colab": {
          "base_uri": "https://localhost:8080/"
        },
        "id": "4PfCMnO-7mx_",
        "outputId": "8f67357c-6f15-46f5-c226-b1864d30f0a0"
      },
      "execution_count": 33,
      "outputs": [
        {
          "output_type": "execute_result",
          "data": {
            "text/plain": [
              "(tensor([ 1, 12, 23, 34, 45, 56, 67, 78, 89]), torch.int64)"
            ]
          },
          "metadata": {},
          "execution_count": 33
        }
      ]
    },
    {
      "cell_type": "code",
      "source": [
        "torch.min(x)"
      ],
      "metadata": {
        "colab": {
          "base_uri": "https://localhost:8080/"
        },
        "id": "43hk0mMo7tev",
        "outputId": "76f48850-7faa-4f62-b230-e9d4758d5c96"
      },
      "execution_count": 34,
      "outputs": [
        {
          "output_type": "execute_result",
          "data": {
            "text/plain": [
              "tensor(1)"
            ]
          },
          "metadata": {},
          "execution_count": 34
        }
      ]
    },
    {
      "cell_type": "code",
      "source": [
        "x.min()"
      ],
      "metadata": {
        "colab": {
          "base_uri": "https://localhost:8080/"
        },
        "id": "Lc_ClLh9715g",
        "outputId": "67ea06ed-05f3-4857-9136-76089c797807"
      },
      "execution_count": 35,
      "outputs": [
        {
          "output_type": "execute_result",
          "data": {
            "text/plain": [
              "tensor(1)"
            ]
          },
          "metadata": {},
          "execution_count": 35
        }
      ]
    },
    {
      "cell_type": "code",
      "source": [
        "torch.max(x)"
      ],
      "metadata": {
        "colab": {
          "base_uri": "https://localhost:8080/"
        },
        "id": "w3WzGq6W73Ej",
        "outputId": "ebe40399-8300-477c-f25a-5be32f8c1e92"
      },
      "execution_count": 36,
      "outputs": [
        {
          "output_type": "execute_result",
          "data": {
            "text/plain": [
              "tensor(89)"
            ]
          },
          "metadata": {},
          "execution_count": 36
        }
      ]
    },
    {
      "cell_type": "code",
      "source": [
        "x.max()"
      ],
      "metadata": {
        "colab": {
          "base_uri": "https://localhost:8080/"
        },
        "id": "3PV9XQvM76rZ",
        "outputId": "e9b75006-6d4e-4d0e-86f2-2fc31bca2246"
      },
      "execution_count": 37,
      "outputs": [
        {
          "output_type": "execute_result",
          "data": {
            "text/plain": [
              "tensor(89)"
            ]
          },
          "metadata": {},
          "execution_count": 37
        }
      ]
    },
    {
      "cell_type": "code",
      "source": [
        "#torch.mean(x) # here dtype is Long(int64) so , torch cant handle long dtype"
      ],
      "metadata": {
        "id": "J_WhqjBp78cg"
      },
      "execution_count": 38,
      "outputs": []
    },
    {
      "cell_type": "markdown",
      "source": [
        "# Now we have convert long into float or smaller dtype"
      ],
      "metadata": {
        "id": "HRCEFh0r8A12"
      }
    },
    {
      "cell_type": "code",
      "source": [
        "torch.mean(x.type(torch.float32))"
      ],
      "metadata": {
        "colab": {
          "base_uri": "https://localhost:8080/"
        },
        "id": "2v0NJpw38nVk",
        "outputId": "b8526cea-b6a1-4318-9cbb-4a756aa9fb74"
      },
      "execution_count": 39,
      "outputs": [
        {
          "output_type": "execute_result",
          "data": {
            "text/plain": [
              "tensor(45.)"
            ]
          },
          "metadata": {},
          "execution_count": 39
        }
      ]
    },
    {
      "cell_type": "code",
      "source": [
        "x.type(torch.float32).mean()"
      ],
      "metadata": {
        "colab": {
          "base_uri": "https://localhost:8080/"
        },
        "id": "GymuWQfb8zLG",
        "outputId": "e883664f-411b-4e8f-c301-ed3d330384b3"
      },
      "execution_count": 40,
      "outputs": [
        {
          "output_type": "execute_result",
          "data": {
            "text/plain": [
              "tensor(45.)"
            ]
          },
          "metadata": {},
          "execution_count": 40
        }
      ]
    },
    {
      "cell_type": "code",
      "source": [
        "x.sum()"
      ],
      "metadata": {
        "colab": {
          "base_uri": "https://localhost:8080/"
        },
        "id": "SIP3jn1s85KH",
        "outputId": "fce2045d-c3e5-4948-da4d-2926b64007f3"
      },
      "execution_count": 41,
      "outputs": [
        {
          "output_type": "execute_result",
          "data": {
            "text/plain": [
              "tensor(405)"
            ]
          },
          "metadata": {},
          "execution_count": 41
        }
      ]
    },
    {
      "cell_type": "code",
      "source": [
        "torch.sum(x)"
      ],
      "metadata": {
        "colab": {
          "base_uri": "https://localhost:8080/"
        },
        "id": "T2FClzz188nN",
        "outputId": "6539d0c6-f4ec-408a-a82f-aec9a0bd6d41"
      },
      "execution_count": 42,
      "outputs": [
        {
          "output_type": "execute_result",
          "data": {
            "text/plain": [
              "tensor(405)"
            ]
          },
          "metadata": {},
          "execution_count": 42
        }
      ]
    },
    {
      "cell_type": "markdown",
      "source": [
        "### Day-3"
      ],
      "metadata": {
        "id": "kgPCvnC88-p2"
      }
    },
    {
      "cell_type": "markdown",
      "source": [
        "#finding the positional min and max"
      ],
      "metadata": {
        "id": "Q_UhzZK5V14Q"
      }
    },
    {
      "cell_type": "code",
      "source": [
        "x"
      ],
      "metadata": {
        "colab": {
          "base_uri": "https://localhost:8080/"
        },
        "id": "hYluvqKcWp2r",
        "outputId": "596b8b3f-3bd6-4e0a-f56c-e7731771f6e2"
      },
      "execution_count": 43,
      "outputs": [
        {
          "output_type": "execute_result",
          "data": {
            "text/plain": [
              "tensor([ 1, 12, 23, 34, 45, 56, 67, 78, 89])"
            ]
          },
          "metadata": {},
          "execution_count": 43
        }
      ]
    },
    {
      "cell_type": "code",
      "source": [
        "#find position in tensor that has the minimum value with argmin()-> returns index value\n",
        "x.argmin()"
      ],
      "metadata": {
        "colab": {
          "base_uri": "https://localhost:8080/"
        },
        "id": "EKZ8gHLkWr3W",
        "outputId": "3c1dc0ab-d3ee-4bf8-f52b-81f84e0a7931"
      },
      "execution_count": 44,
      "outputs": [
        {
          "output_type": "execute_result",
          "data": {
            "text/plain": [
              "tensor(0)"
            ]
          },
          "metadata": {},
          "execution_count": 44
        }
      ]
    },
    {
      "cell_type": "code",
      "source": [
        "x[0]"
      ],
      "metadata": {
        "colab": {
          "base_uri": "https://localhost:8080/"
        },
        "id": "oN6gxnPqXGx5",
        "outputId": "ca78f787-5a0d-49f3-d1a6-e75589868abe"
      },
      "execution_count": 45,
      "outputs": [
        {
          "output_type": "execute_result",
          "data": {
            "text/plain": [
              "tensor(1)"
            ]
          },
          "metadata": {},
          "execution_count": 45
        }
      ]
    },
    {
      "cell_type": "code",
      "source": [
        "#find\n",
        "x.argmax()"
      ],
      "metadata": {
        "colab": {
          "base_uri": "https://localhost:8080/"
        },
        "id": "EPZUz3V7XaRC",
        "outputId": "90367db0-9cb7-42e7-8022-91ed6bcd67ca"
      },
      "execution_count": 46,
      "outputs": [
        {
          "output_type": "execute_result",
          "data": {
            "text/plain": [
              "tensor(8)"
            ]
          },
          "metadata": {},
          "execution_count": 46
        }
      ]
    },
    {
      "cell_type": "code",
      "source": [
        "x[8]"
      ],
      "metadata": {
        "colab": {
          "base_uri": "https://localhost:8080/"
        },
        "id": "zDupXopBXto5",
        "outputId": "73d71267-6189-4585-f7be-cfa75409f619"
      },
      "execution_count": 47,
      "outputs": [
        {
          "output_type": "execute_result",
          "data": {
            "text/plain": [
              "tensor(89)"
            ]
          },
          "metadata": {},
          "execution_count": 47
        }
      ]
    },
    {
      "cell_type": "markdown",
      "source": [
        "#Reshaping, stacking, squeezing and unsqueezing, permute\n"
      ],
      "metadata": {
        "id": "7Xb0Pe8PX8oN"
      }
    },
    {
      "cell_type": "code",
      "source": [
        "x=torch.arange(1.,10.)\n",
        "x,x.shape\n"
      ],
      "metadata": {
        "colab": {
          "base_uri": "https://localhost:8080/"
        },
        "id": "AcEXw0Frm72H",
        "outputId": "c8452281-98c2-4f8a-c1a2-c1dc600e3c3d"
      },
      "execution_count": 48,
      "outputs": [
        {
          "output_type": "execute_result",
          "data": {
            "text/plain": [
              "(tensor([1., 2., 3., 4., 5., 6., 7., 8., 9.]), torch.Size([9]))"
            ]
          },
          "metadata": {},
          "execution_count": 48
        }
      ]
    },
    {
      "cell_type": "code",
      "source": [
        "x_reshaped=x.reshape(1,7)\n",
        "x_reshaped, x_reshaped.shape"
      ],
      "metadata": {
        "colab": {
          "base_uri": "https://localhost:8080/",
          "height": 200
        },
        "id": "foA6eeUMbB0Y",
        "outputId": "e6d6c877-8e90-4b7c-de76-df08427989d8"
      },
      "execution_count": 49,
      "outputs": [
        {
          "output_type": "error",
          "ename": "RuntimeError",
          "evalue": "shape '[1, 7]' is invalid for input of size 9",
          "traceback": [
            "\u001b[0;31m---------------------------------------------------------------------------\u001b[0m",
            "\u001b[0;31mRuntimeError\u001b[0m                              Traceback (most recent call last)",
            "\u001b[0;32m<ipython-input-49-403364b7c376>\u001b[0m in \u001b[0;36m<cell line: 1>\u001b[0;34m()\u001b[0m\n\u001b[0;32m----> 1\u001b[0;31m \u001b[0mx_reshaped\u001b[0m\u001b[0;34m=\u001b[0m\u001b[0mx\u001b[0m\u001b[0;34m.\u001b[0m\u001b[0mreshape\u001b[0m\u001b[0;34m(\u001b[0m\u001b[0;36m1\u001b[0m\u001b[0;34m,\u001b[0m\u001b[0;36m7\u001b[0m\u001b[0;34m)\u001b[0m\u001b[0;34m\u001b[0m\u001b[0;34m\u001b[0m\u001b[0m\n\u001b[0m\u001b[1;32m      2\u001b[0m \u001b[0mx_reshaped\u001b[0m\u001b[0;34m,\u001b[0m \u001b[0mx_reshaped\u001b[0m\u001b[0;34m.\u001b[0m\u001b[0mshape\u001b[0m\u001b[0;34m\u001b[0m\u001b[0;34m\u001b[0m\u001b[0m\n",
            "\u001b[0;31mRuntimeError\u001b[0m: shape '[1, 7]' is invalid for input of size 9"
          ]
        }
      ]
    },
    {
      "cell_type": "code",
      "source": [
        "x_reshaped=x.reshape(1,9)\n",
        "x_reshaped, x_reshaped.shape"
      ],
      "metadata": {
        "colab": {
          "base_uri": "https://localhost:8080/"
        },
        "id": "YGIaujO7bXg-",
        "outputId": "1eaee2ec-3c1e-4e4a-e586-6c88192fdaf3"
      },
      "execution_count": 53,
      "outputs": [
        {
          "output_type": "execute_result",
          "data": {
            "text/plain": [
              "(tensor([[1., 2., 3., 4., 5., 6., 7., 8., 9.]]), torch.Size([1, 9]))"
            ]
          },
          "metadata": {},
          "execution_count": 53
        }
      ]
    },
    {
      "cell_type": "code",
      "source": [
        "x_reshaped=x.reshape(2,9)\n",
        "x_reshaped, x_reshaped.shape"
      ],
      "metadata": {
        "colab": {
          "base_uri": "https://localhost:8080/",
          "height": 200
        },
        "id": "hnqdQRahbdfl",
        "outputId": "08bddd48-9579-4a76-8f46-186cfb4034de"
      },
      "execution_count": 54,
      "outputs": [
        {
          "output_type": "error",
          "ename": "RuntimeError",
          "evalue": "shape '[2, 9]' is invalid for input of size 9",
          "traceback": [
            "\u001b[0;31m---------------------------------------------------------------------------\u001b[0m",
            "\u001b[0;31mRuntimeError\u001b[0m                              Traceback (most recent call last)",
            "\u001b[0;32m<ipython-input-54-7fd32643dcd3>\u001b[0m in \u001b[0;36m<cell line: 1>\u001b[0;34m()\u001b[0m\n\u001b[0;32m----> 1\u001b[0;31m \u001b[0mx_reshaped\u001b[0m\u001b[0;34m=\u001b[0m\u001b[0mx\u001b[0m\u001b[0;34m.\u001b[0m\u001b[0mreshape\u001b[0m\u001b[0;34m(\u001b[0m\u001b[0;36m2\u001b[0m\u001b[0;34m,\u001b[0m\u001b[0;36m9\u001b[0m\u001b[0;34m)\u001b[0m\u001b[0;34m\u001b[0m\u001b[0;34m\u001b[0m\u001b[0m\n\u001b[0m\u001b[1;32m      2\u001b[0m \u001b[0mx_reshaped\u001b[0m\u001b[0;34m,\u001b[0m \u001b[0mx_reshaped\u001b[0m\u001b[0;34m.\u001b[0m\u001b[0mshape\u001b[0m\u001b[0;34m\u001b[0m\u001b[0;34m\u001b[0m\u001b[0m\n",
            "\u001b[0;31mRuntimeError\u001b[0m: shape '[2, 9]' is invalid for input of size 9"
          ]
        }
      ]
    },
    {
      "cell_type": "code",
      "source": [
        "x_reshaped=x.reshape(9,1)\n",
        "x_reshaped, x_reshaped.shape"
      ],
      "metadata": {
        "colab": {
          "base_uri": "https://localhost:8080/"
        },
        "id": "GrBTopB7blcz",
        "outputId": "0d611115-e90f-4a8f-cf4a-4647ee8e1805"
      },
      "execution_count": 55,
      "outputs": [
        {
          "output_type": "execute_result",
          "data": {
            "text/plain": [
              "(tensor([[1.],\n",
              "         [2.],\n",
              "         [3.],\n",
              "         [4.],\n",
              "         [5.],\n",
              "         [6.],\n",
              "         [7.],\n",
              "         [8.],\n",
              "         [9.]]),\n",
              " torch.Size([9, 1]))"
            ]
          },
          "metadata": {},
          "execution_count": 55
        }
      ]
    },
    {
      "cell_type": "code",
      "source": [
        "#change the view\n",
        "z=x.view(1,9)\n",
        "z, z.shape"
      ],
      "metadata": {
        "colab": {
          "base_uri": "https://localhost:8080/"
        },
        "id": "3M2KWAUPbn1E",
        "outputId": "1e79b79b-81da-4527-86b9-05a13e0a9e49"
      },
      "execution_count": 56,
      "outputs": [
        {
          "output_type": "execute_result",
          "data": {
            "text/plain": [
              "(tensor([[1., 2., 3., 4., 5., 6., 7., 8., 9.]]), torch.Size([1, 9]))"
            ]
          },
          "metadata": {},
          "execution_count": 56
        }
      ]
    },
    {
      "cell_type": "code",
      "source": [
        "#changing z changes x (because a view of a tensor shares the same memory as the original input)\n",
        "z[:,0]=15\n",
        "z,x"
      ],
      "metadata": {
        "id": "8QdWEN1Gb4bZ"
      },
      "execution_count": null,
      "outputs": []
    },
    {
      "cell_type": "code",
      "source": [
        "#stack tensors on top of each other\n",
        "x_stacked = torch.stack([x,x,x,x],dim=1)\n",
        "x_stacked"
      ],
      "metadata": {
        "colab": {
          "base_uri": "https://localhost:8080/"
        },
        "id": "JuF8e-hLcLH4",
        "outputId": "f8de3839-e202-428f-c330-c5945a0d72e6"
      },
      "execution_count": 57,
      "outputs": [
        {
          "output_type": "execute_result",
          "data": {
            "text/plain": [
              "tensor([[1., 1., 1., 1.],\n",
              "        [2., 2., 2., 2.],\n",
              "        [3., 3., 3., 3.],\n",
              "        [4., 4., 4., 4.],\n",
              "        [5., 5., 5., 5.],\n",
              "        [6., 6., 6., 6.],\n",
              "        [7., 7., 7., 7.],\n",
              "        [8., 8., 8., 8.],\n",
              "        [9., 9., 9., 9.]])"
            ]
          },
          "metadata": {},
          "execution_count": 57
        }
      ]
    },
    {
      "cell_type": "code",
      "source": [
        "x_stacked = torch.stack([x,x,x,x],dim=2)\n",
        "x_stacked"
      ],
      "metadata": {
        "colab": {
          "base_uri": "https://localhost:8080/",
          "height": 200
        },
        "id": "0SD0FRvzckRj",
        "outputId": "656068f0-b017-4a08-a520-9d9369267896"
      },
      "execution_count": 58,
      "outputs": [
        {
          "output_type": "error",
          "ename": "IndexError",
          "evalue": "Dimension out of range (expected to be in range of [-2, 1], but got 2)",
          "traceback": [
            "\u001b[0;31m---------------------------------------------------------------------------\u001b[0m",
            "\u001b[0;31mIndexError\u001b[0m                                Traceback (most recent call last)",
            "\u001b[0;32m<ipython-input-58-6cb74f8e2788>\u001b[0m in \u001b[0;36m<cell line: 1>\u001b[0;34m()\u001b[0m\n\u001b[0;32m----> 1\u001b[0;31m \u001b[0mx_stacked\u001b[0m \u001b[0;34m=\u001b[0m \u001b[0mtorch\u001b[0m\u001b[0;34m.\u001b[0m\u001b[0mstack\u001b[0m\u001b[0;34m(\u001b[0m\u001b[0;34m[\u001b[0m\u001b[0mx\u001b[0m\u001b[0;34m,\u001b[0m\u001b[0mx\u001b[0m\u001b[0;34m,\u001b[0m\u001b[0mx\u001b[0m\u001b[0;34m,\u001b[0m\u001b[0mx\u001b[0m\u001b[0;34m]\u001b[0m\u001b[0;34m,\u001b[0m\u001b[0mdim\u001b[0m\u001b[0;34m=\u001b[0m\u001b[0;36m2\u001b[0m\u001b[0;34m)\u001b[0m\u001b[0;34m\u001b[0m\u001b[0;34m\u001b[0m\u001b[0m\n\u001b[0m\u001b[1;32m      2\u001b[0m \u001b[0mx_stacked\u001b[0m\u001b[0;34m\u001b[0m\u001b[0;34m\u001b[0m\u001b[0m\n",
            "\u001b[0;31mIndexError\u001b[0m: Dimension out of range (expected to be in range of [-2, 1], but got 2)"
          ]
        }
      ]
    },
    {
      "cell_type": "markdown",
      "source": [
        "#torch.squeeze() -> removes all single dimensions from a target tensor\n"
      ],
      "metadata": {
        "id": "jL05Ff43cqz4"
      }
    },
    {
      "cell_type": "code",
      "source": [
        "x_reshaped,x_reshaped.shape"
      ],
      "metadata": {
        "colab": {
          "base_uri": "https://localhost:8080/"
        },
        "id": "NJDs43rjdnY0",
        "outputId": "d974d939-6113-4fd5-94ba-1f4c8fe0a655"
      },
      "execution_count": 59,
      "outputs": [
        {
          "output_type": "execute_result",
          "data": {
            "text/plain": [
              "(tensor([[1.],\n",
              "         [2.],\n",
              "         [3.],\n",
              "         [4.],\n",
              "         [5.],\n",
              "         [6.],\n",
              "         [7.],\n",
              "         [8.],\n",
              "         [9.]]),\n",
              " torch.Size([9, 1]))"
            ]
          },
          "metadata": {},
          "execution_count": 59
        }
      ]
    },
    {
      "cell_type": "code",
      "source": [
        "x_squeeze=x_reshaped.squeeze()"
      ],
      "metadata": {
        "id": "Ji33FwuadJAi"
      },
      "execution_count": 61,
      "outputs": []
    },
    {
      "cell_type": "code",
      "source": [
        "x_reshaped.squeeze().shape"
      ],
      "metadata": {
        "colab": {
          "base_uri": "https://localhost:8080/"
        },
        "id": "-MF9e6EDdNhz",
        "outputId": "26023143-8fae-42f7-8f8d-c45fc44dac81"
      },
      "execution_count": 60,
      "outputs": [
        {
          "output_type": "execute_result",
          "data": {
            "text/plain": [
              "torch.Size([9])"
            ]
          },
          "metadata": {},
          "execution_count": 60
        }
      ]
    },
    {
      "cell_type": "markdown",
      "source": [
        "##torch.unsqueeze() -> adds a single dimensions from a target tensor at aspecific dim\n"
      ],
      "metadata": {
        "id": "FFaLQ89KdTMP"
      }
    },
    {
      "cell_type": "code",
      "source": [
        "x_reshaped,x_reshaped.shape"
      ],
      "metadata": {
        "colab": {
          "base_uri": "https://localhost:8080/"
        },
        "id": "E6Ns_48Bd3yw",
        "outputId": "9a749400-fa97-4134-a0f6-127d72e2f5b1"
      },
      "execution_count": 62,
      "outputs": [
        {
          "output_type": "execute_result",
          "data": {
            "text/plain": [
              "(tensor([[1.],\n",
              "         [2.],\n",
              "         [3.],\n",
              "         [4.],\n",
              "         [5.],\n",
              "         [6.],\n",
              "         [7.],\n",
              "         [8.],\n",
              "         [9.]]),\n",
              " torch.Size([9, 1]))"
            ]
          },
          "metadata": {},
          "execution_count": 62
        }
      ]
    },
    {
      "cell_type": "code",
      "source": [
        "x_unsqueeze=x_squeeze.unsqueeze(dim=1)"
      ],
      "metadata": {
        "id": "gyvO8GeEd7FG"
      },
      "execution_count": 65,
      "outputs": []
    },
    {
      "cell_type": "code",
      "source": [
        "x_unsqueeze.shape"
      ],
      "metadata": {
        "colab": {
          "base_uri": "https://localhost:8080/"
        },
        "id": "Q7Y3zlHaekeg",
        "outputId": "3609f2a9-7f21-4506-db7a-2f61dc860944"
      },
      "execution_count": 66,
      "outputs": [
        {
          "output_type": "execute_result",
          "data": {
            "text/plain": [
              "torch.Size([9, 1])"
            ]
          },
          "metadata": {},
          "execution_count": 66
        }
      ]
    },
    {
      "cell_type": "code",
      "source": [
        "x_reshaped.unsqueeze(dim=1)"
      ],
      "metadata": {
        "colab": {
          "base_uri": "https://localhost:8080/"
        },
        "id": "Kvgxa5iBeuL6",
        "outputId": "e08f7df0-073f-4b86-a736-5549adfca571"
      },
      "execution_count": 64,
      "outputs": [
        {
          "output_type": "execute_result",
          "data": {
            "text/plain": [
              "tensor([[[1.]],\n",
              "\n",
              "        [[2.]],\n",
              "\n",
              "        [[3.]],\n",
              "\n",
              "        [[4.]],\n",
              "\n",
              "        [[5.]],\n",
              "\n",
              "        [[6.]],\n",
              "\n",
              "        [[7.]],\n",
              "\n",
              "        [[8.]],\n",
              "\n",
              "        [[9.]]])"
            ]
          },
          "metadata": {},
          "execution_count": 64
        }
      ]
    },
    {
      "cell_type": "code",
      "source": [
        "x_reshaped.unsqueeze(dim=2)"
      ],
      "metadata": {
        "colab": {
          "base_uri": "https://localhost:8080/"
        },
        "id": "YyyJFgMMfAhm",
        "outputId": "c8adc605-250d-43c1-e46c-3b79ca415714"
      },
      "execution_count": 67,
      "outputs": [
        {
          "output_type": "execute_result",
          "data": {
            "text/plain": [
              "tensor([[[1.]],\n",
              "\n",
              "        [[2.]],\n",
              "\n",
              "        [[3.]],\n",
              "\n",
              "        [[4.]],\n",
              "\n",
              "        [[5.]],\n",
              "\n",
              "        [[6.]],\n",
              "\n",
              "        [[7.]],\n",
              "\n",
              "        [[8.]],\n",
              "\n",
              "        [[9.]]])"
            ]
          },
          "metadata": {},
          "execution_count": 67
        }
      ]
    },
    {
      "cell_type": "code",
      "source": [
        "#torch.permute - rearranges the dimensions of a target tensor in a specified order\n",
        "x_original = torch.rand(size=(224,224,3))\n",
        "\n",
        "x_permuted=x_original.permute(2,0,1) # shifts axis 0->1 1->2 2 ->0\n",
        "\n",
        "print(f\"Previous Shape:  {x_original.shape}\")\n",
        "print(f\"New Shape: {x_permuted.shape}\")\n",
        "\n"
      ],
      "metadata": {
        "colab": {
          "base_uri": "https://localhost:8080/"
        },
        "id": "-nNndRTvfD35",
        "outputId": "9d97e39a-e16d-4812-f906-587ebbd81657"
      },
      "execution_count": 68,
      "outputs": [
        {
          "output_type": "stream",
          "name": "stdout",
          "text": [
            "Previous Shape:  torch.Size([224, 224, 3])\n",
            "New Shape: torch.Size([3, 224, 224])\n"
          ]
        }
      ]
    },
    {
      "cell_type": "code",
      "source": [
        "x_original[0,:,:]"
      ],
      "metadata": {
        "colab": {
          "base_uri": "https://localhost:8080/"
        },
        "id": "SNBaExIUggM8",
        "outputId": "54cc03dc-69a0-4c01-e646-44d32c91fe48"
      },
      "execution_count": 70,
      "outputs": [
        {
          "output_type": "execute_result",
          "data": {
            "text/plain": [
              "tensor([[0.2653, 0.3171, 0.7317],\n",
              "        [0.4050, 0.6829, 0.7773],\n",
              "        [0.5927, 0.9767, 0.7630],\n",
              "        [0.4173, 0.6854, 0.6741],\n",
              "        [0.9576, 0.2653, 0.0038],\n",
              "        [0.3225, 0.4140, 0.3742],\n",
              "        [0.6225, 0.1047, 0.5801],\n",
              "        [0.9166, 0.2790, 0.0266],\n",
              "        [0.8224, 0.0854, 0.5726],\n",
              "        [0.1896, 0.3570, 0.4568],\n",
              "        [0.4157, 0.5974, 0.1482],\n",
              "        [0.6063, 0.9169, 0.8082],\n",
              "        [0.1766, 0.7395, 0.3722],\n",
              "        [0.8321, 0.3565, 0.4665],\n",
              "        [0.8922, 0.4160, 0.6008],\n",
              "        [0.6815, 0.0737, 0.1784],\n",
              "        [0.5551, 0.0136, 0.9139],\n",
              "        [0.9760, 0.2460, 0.5702],\n",
              "        [0.7236, 0.5405, 0.1870],\n",
              "        [0.2380, 0.5406, 0.9178],\n",
              "        [0.5670, 0.0571, 0.7365],\n",
              "        [0.3400, 0.7765, 0.6963],\n",
              "        [0.7498, 0.0597, 0.8300],\n",
              "        [0.2189, 0.6784, 0.7967],\n",
              "        [0.0315, 0.9600, 0.6615],\n",
              "        [0.1372, 0.3388, 0.5250],\n",
              "        [0.7724, 0.7260, 0.5568],\n",
              "        [0.9444, 0.4156, 0.8182],\n",
              "        [0.6388, 0.4279, 0.2977],\n",
              "        [0.5215, 0.6662, 0.5891],\n",
              "        [0.0158, 0.4431, 0.2282],\n",
              "        [0.0708, 0.4355, 0.7287],\n",
              "        [0.7444, 0.9485, 0.7998],\n",
              "        [0.9360, 0.8237, 0.7836],\n",
              "        [0.2002, 0.5266, 0.4265],\n",
              "        [0.9335, 0.7489, 0.7486],\n",
              "        [0.5054, 0.7343, 0.7815],\n",
              "        [0.0667, 0.2572, 0.1787],\n",
              "        [0.0145, 0.1817, 0.3438],\n",
              "        [0.0984, 0.0471, 0.1076],\n",
              "        [0.3077, 0.1655, 0.6178],\n",
              "        [0.3772, 0.3647, 0.0964],\n",
              "        [0.3724, 0.2199, 0.4044],\n",
              "        [0.7183, 0.4574, 0.3996],\n",
              "        [0.1794, 0.2041, 0.0378],\n",
              "        [0.1281, 0.7628, 0.6120],\n",
              "        [0.3485, 0.7668, 0.1571],\n",
              "        [0.8043, 0.6497, 0.6325],\n",
              "        [0.5802, 0.3512, 0.3285],\n",
              "        [0.1039, 0.8985, 0.8631],\n",
              "        [0.4377, 0.7114, 0.0238],\n",
              "        [0.4097, 0.5035, 0.0673],\n",
              "        [0.8450, 0.5021, 0.3419],\n",
              "        [0.1981, 0.5957, 0.8764],\n",
              "        [0.7791, 0.3801, 0.0709],\n",
              "        [0.9980, 0.3798, 0.5829],\n",
              "        [0.0515, 0.2646, 0.1752],\n",
              "        [0.5006, 0.2037, 0.4702],\n",
              "        [0.2604, 0.2554, 0.2285],\n",
              "        [0.5545, 0.5689, 0.4519],\n",
              "        [0.1661, 0.1418, 0.1810],\n",
              "        [0.5674, 0.3579, 0.1338],\n",
              "        [0.6117, 0.5511, 0.8104],\n",
              "        [0.3753, 0.5338, 0.8433],\n",
              "        [0.1096, 0.1682, 0.4454],\n",
              "        [0.0533, 0.5149, 0.1494],\n",
              "        [0.6246, 0.1759, 0.1562],\n",
              "        [0.3368, 0.8533, 0.3541],\n",
              "        [0.4773, 0.8987, 0.7022],\n",
              "        [0.4104, 0.9629, 0.9513],\n",
              "        [0.3020, 0.5199, 0.1729],\n",
              "        [0.9381, 0.0572, 0.9859],\n",
              "        [0.9731, 0.2331, 0.0852],\n",
              "        [0.2162, 0.4211, 0.0024],\n",
              "        [0.1665, 0.3360, 0.2598],\n",
              "        [0.3073, 0.0061, 0.0556],\n",
              "        [0.5008, 0.9520, 0.1827],\n",
              "        [0.3440, 0.3038, 0.5320],\n",
              "        [0.4399, 0.9439, 0.0231],\n",
              "        [0.2115, 0.2203, 0.0087],\n",
              "        [0.7241, 0.9131, 0.5960],\n",
              "        [0.2041, 0.9735, 0.4346],\n",
              "        [0.6015, 0.8774, 0.5672],\n",
              "        [0.8548, 0.6676, 0.7848],\n",
              "        [0.7032, 0.0386, 0.5993],\n",
              "        [0.6756, 0.0125, 0.3462],\n",
              "        [0.3080, 0.1506, 0.6513],\n",
              "        [0.6572, 0.9062, 0.6995],\n",
              "        [0.4770, 0.2993, 0.3839],\n",
              "        [0.7462, 0.7211, 0.7638],\n",
              "        [0.7089, 0.3000, 0.5093],\n",
              "        [0.2196, 0.8220, 0.1169],\n",
              "        [0.6044, 0.7963, 0.0613],\n",
              "        [0.5077, 0.5219, 0.9307],\n",
              "        [0.7890, 0.4993, 0.9126],\n",
              "        [0.7922, 0.5458, 0.5598],\n",
              "        [0.5439, 0.4884, 0.3928],\n",
              "        [0.1419, 0.6518, 0.9477],\n",
              "        [0.5343, 0.7971, 0.7781],\n",
              "        [0.4556, 0.6651, 0.3757],\n",
              "        [0.2688, 0.7461, 0.8106],\n",
              "        [0.9781, 0.7301, 0.0944],\n",
              "        [0.6910, 0.8370, 0.4237],\n",
              "        [0.8587, 0.8885, 0.1345],\n",
              "        [0.4829, 0.8630, 0.9706],\n",
              "        [0.6781, 0.4905, 0.0148],\n",
              "        [0.2201, 0.5846, 0.4400],\n",
              "        [0.8266, 0.5901, 0.6812],\n",
              "        [0.9619, 0.8652, 0.8992],\n",
              "        [0.6715, 0.0537, 0.8527],\n",
              "        [0.4247, 0.0264, 0.1151],\n",
              "        [0.1056, 0.9112, 0.9816],\n",
              "        [0.1750, 0.4550, 0.2863],\n",
              "        [0.8265, 0.4890, 0.1594],\n",
              "        [0.0581, 0.2961, 0.3632],\n",
              "        [0.1676, 0.8858, 0.6780],\n",
              "        [0.0940, 0.0771, 0.9424],\n",
              "        [0.7307, 0.1888, 0.5521],\n",
              "        [0.7423, 0.3489, 0.7439],\n",
              "        [0.5022, 0.8941, 0.0666],\n",
              "        [0.7522, 0.6952, 0.4067],\n",
              "        [0.8693, 0.1022, 0.0104],\n",
              "        [0.9801, 0.9054, 0.1253],\n",
              "        [0.7146, 0.3765, 0.1928],\n",
              "        [0.6529, 0.3559, 0.9123],\n",
              "        [0.6747, 0.7636, 0.1846],\n",
              "        [0.3876, 0.0846, 0.5906],\n",
              "        [0.3192, 0.5660, 0.2259],\n",
              "        [0.0823, 0.4521, 0.3507],\n",
              "        [0.5852, 0.8805, 0.7369],\n",
              "        [0.9276, 0.6953, 0.0771],\n",
              "        [0.5419, 0.7871, 0.2008],\n",
              "        [0.9068, 0.4461, 0.0458],\n",
              "        [0.2307, 0.4342, 0.2254],\n",
              "        [0.0200, 0.3853, 0.5265],\n",
              "        [0.4316, 0.8434, 0.4026],\n",
              "        [0.9257, 0.7313, 0.3286],\n",
              "        [0.0926, 0.3307, 0.0710],\n",
              "        [0.6932, 0.6218, 0.3200],\n",
              "        [0.3344, 0.8665, 0.4233],\n",
              "        [0.1773, 0.7394, 0.9574],\n",
              "        [0.5453, 0.5344, 0.9223],\n",
              "        [0.6254, 0.8699, 0.8866],\n",
              "        [0.1805, 0.6044, 0.6742],\n",
              "        [0.5547, 0.0480, 0.6618],\n",
              "        [0.3016, 0.2177, 0.0397],\n",
              "        [0.7633, 0.2914, 0.0161],\n",
              "        [0.1676, 0.2803, 0.3414],\n",
              "        [0.2504, 0.2113, 0.8264],\n",
              "        [0.8253, 0.7054, 0.4196],\n",
              "        [0.5213, 0.1867, 0.6992],\n",
              "        [0.8203, 0.0229, 0.5391],\n",
              "        [0.6677, 0.5560, 0.2582],\n",
              "        [0.7779, 0.2849, 0.6624],\n",
              "        [0.5336, 0.4874, 0.6631],\n",
              "        [0.3175, 0.0222, 0.8246],\n",
              "        [0.1814, 0.8804, 0.0768],\n",
              "        [0.2077, 0.7696, 0.1642],\n",
              "        [0.0337, 0.2983, 0.2182],\n",
              "        [0.3616, 0.2090, 0.4134],\n",
              "        [0.2315, 0.7249, 0.3773],\n",
              "        [0.4124, 0.7467, 0.0234],\n",
              "        [0.6891, 0.9297, 0.7350],\n",
              "        [0.0092, 0.6095, 0.9532],\n",
              "        [0.8535, 0.9676, 0.8948],\n",
              "        [0.5388, 0.1869, 0.8125],\n",
              "        [0.5421, 0.5236, 0.7710],\n",
              "        [0.8181, 0.7316, 0.0919],\n",
              "        [0.3561, 0.2591, 0.7161],\n",
              "        [0.8903, 0.1167, 0.6013],\n",
              "        [0.6652, 0.5696, 0.8979],\n",
              "        [0.2213, 0.9777, 0.4158],\n",
              "        [0.1930, 0.8652, 0.2744],\n",
              "        [0.1105, 0.6625, 0.0248],\n",
              "        [0.2871, 0.9149, 0.4994],\n",
              "        [0.1003, 0.6673, 0.4689],\n",
              "        [0.8030, 0.4347, 0.7640],\n",
              "        [0.9933, 0.7458, 0.7271],\n",
              "        [0.0731, 0.4686, 0.1820],\n",
              "        [0.6413, 0.5787, 0.5161],\n",
              "        [0.3588, 0.7177, 0.3748],\n",
              "        [0.1552, 0.9738, 0.9243],\n",
              "        [0.4370, 0.8592, 0.5749],\n",
              "        [0.9702, 0.2518, 0.2009],\n",
              "        [0.5639, 0.2735, 0.0048],\n",
              "        [0.2328, 0.6528, 0.9694],\n",
              "        [0.2255, 0.1349, 0.6973],\n",
              "        [0.5871, 0.7883, 0.5078],\n",
              "        [0.4267, 0.9354, 0.4632],\n",
              "        [0.3254, 0.0444, 0.2223],\n",
              "        [0.6646, 0.5827, 0.0543],\n",
              "        [0.2455, 0.1708, 0.5550],\n",
              "        [0.1833, 0.2506, 0.9324],\n",
              "        [0.9254, 0.3131, 0.4438],\n",
              "        [0.5032, 0.6510, 0.5083],\n",
              "        [0.1196, 0.7025, 0.6246],\n",
              "        [0.9291, 0.2076, 0.1352],\n",
              "        [0.8879, 0.1688, 0.5512],\n",
              "        [0.3166, 0.1657, 0.5741],\n",
              "        [0.1473, 0.7038, 0.8645],\n",
              "        [0.5159, 0.3475, 0.5938],\n",
              "        [0.1573, 0.3725, 0.7759],\n",
              "        [0.3161, 0.9510, 0.1479],\n",
              "        [0.3460, 0.4802, 0.0117],\n",
              "        [0.5609, 0.4056, 0.1204],\n",
              "        [0.3549, 0.7737, 0.4532],\n",
              "        [0.2118, 0.4538, 0.2415],\n",
              "        [0.1072, 0.1196, 0.6852],\n",
              "        [0.4405, 0.5952, 0.4774],\n",
              "        [0.0314, 0.8493, 0.7010],\n",
              "        [0.9005, 0.4383, 0.1581],\n",
              "        [0.5345, 0.8295, 0.6802],\n",
              "        [0.8056, 0.4065, 0.9228],\n",
              "        [0.6290, 0.0819, 0.7609],\n",
              "        [0.0924, 0.4381, 0.0164],\n",
              "        [0.9207, 0.3508, 0.7574],\n",
              "        [0.1363, 0.5118, 0.5432],\n",
              "        [0.3660, 0.1019, 0.4829],\n",
              "        [0.9207, 0.0315, 0.0295],\n",
              "        [0.0176, 0.9466, 0.5212],\n",
              "        [0.3347, 0.2983, 0.5190],\n",
              "        [0.1965, 0.4356, 0.6803],\n",
              "        [0.3158, 0.8106, 0.6142],\n",
              "        [0.2330, 0.2492, 0.9295]])"
            ]
          },
          "metadata": {},
          "execution_count": 70
        }
      ]
    },
    {
      "cell_type": "code",
      "source": [
        "x_original[0,0,0]"
      ],
      "metadata": {
        "colab": {
          "base_uri": "https://localhost:8080/"
        },
        "id": "q2YftvnwgtnF",
        "outputId": "69f28cac-649c-433e-b3cd-dfb231dbb5da"
      },
      "execution_count": 69,
      "outputs": [
        {
          "output_type": "execute_result",
          "data": {
            "text/plain": [
              "tensor(0.2653)"
            ]
          },
          "metadata": {},
          "execution_count": 69
        }
      ]
    },
    {
      "cell_type": "code",
      "source": [
        "x_original[0,0,0]=8374\n",
        "x_original[0,0,0], x_permuted[0,0,0]"
      ],
      "metadata": {
        "id": "s3glxupNhAdX"
      },
      "execution_count": null,
      "outputs": []
    },
    {
      "cell_type": "markdown",
      "source": [
        "#selecting data from tensors"
      ],
      "metadata": {
        "id": "BIc5TBqSgizO"
      }
    },
    {
      "cell_type": "markdown",
      "source": [
        "##Indexing (selecting data from tensors)\n",
        "Indexing with pytorch is similar to numpy"
      ],
      "metadata": {
        "id": "JTzTrTDEhYS-"
      }
    },
    {
      "cell_type": "code",
      "source": [
        "x=torch.arange(1,10).reshape(1,3,3)\n",
        "x,x.shape"
      ],
      "metadata": {
        "colab": {
          "base_uri": "https://localhost:8080/"
        },
        "id": "rsMBMEaSkMXc",
        "outputId": "31ace5e8-ce47-4d42-dd97-161f8f061643"
      },
      "execution_count": 71,
      "outputs": [
        {
          "output_type": "execute_result",
          "data": {
            "text/plain": [
              "(tensor([[[1, 2, 3],\n",
              "          [4, 5, 6],\n",
              "          [7, 8, 9]]]),\n",
              " torch.Size([1, 3, 3]))"
            ]
          },
          "metadata": {},
          "execution_count": 71
        }
      ]
    },
    {
      "cell_type": "code",
      "source": [
        "x[0]"
      ],
      "metadata": {
        "colab": {
          "base_uri": "https://localhost:8080/"
        },
        "id": "z8PuImztkhWf",
        "outputId": "2555a4ab-28d4-4f0b-89c8-27e66d953b0f"
      },
      "execution_count": 72,
      "outputs": [
        {
          "output_type": "execute_result",
          "data": {
            "text/plain": [
              "tensor([[1, 2, 3],\n",
              "        [4, 5, 6],\n",
              "        [7, 8, 9]])"
            ]
          },
          "metadata": {},
          "execution_count": 72
        }
      ]
    },
    {
      "cell_type": "code",
      "source": [
        "x[0][0]"
      ],
      "metadata": {
        "colab": {
          "base_uri": "https://localhost:8080/"
        },
        "id": "1kWyEk3IkkPB",
        "outputId": "1bc2a05d-fc58-42a0-fae8-ca80ca5c70bc"
      },
      "execution_count": 73,
      "outputs": [
        {
          "output_type": "execute_result",
          "data": {
            "text/plain": [
              "tensor([1, 2, 3])"
            ]
          },
          "metadata": {},
          "execution_count": 73
        }
      ]
    },
    {
      "cell_type": "code",
      "source": [
        "x[0][0][0]"
      ],
      "metadata": {
        "colab": {
          "base_uri": "https://localhost:8080/"
        },
        "id": "8AiGlPuOlCCV",
        "outputId": "e7b88b46-2a58-43e2-dc5c-599622decb58"
      },
      "execution_count": 76,
      "outputs": [
        {
          "output_type": "execute_result",
          "data": {
            "text/plain": [
              "tensor(1)"
            ]
          },
          "metadata": {},
          "execution_count": 76
        }
      ]
    },
    {
      "cell_type": "code",
      "source": [
        "x[0][0][1]"
      ],
      "metadata": {
        "colab": {
          "base_uri": "https://localhost:8080/"
        },
        "id": "jgKb4zgGlJ_s",
        "outputId": "3d498c01-49ac-41e0-abf2-a522ae42129b"
      },
      "execution_count": 75,
      "outputs": [
        {
          "output_type": "execute_result",
          "data": {
            "text/plain": [
              "tensor(2)"
            ]
          },
          "metadata": {},
          "execution_count": 75
        }
      ]
    },
    {
      "cell_type": "code",
      "source": [
        "x[1][1][1]"
      ],
      "metadata": {
        "colab": {
          "base_uri": "https://localhost:8080/",
          "height": 182
        },
        "id": "76-v4Jm3lW3I",
        "outputId": "892f2074-eab9-4b78-b4e1-e53bacb9e471"
      },
      "execution_count": 81,
      "outputs": [
        {
          "output_type": "error",
          "ename": "IndexError",
          "evalue": "index 1 is out of bounds for dimension 0 with size 1",
          "traceback": [
            "\u001b[0;31m---------------------------------------------------------------------------\u001b[0m",
            "\u001b[0;31mIndexError\u001b[0m                                Traceback (most recent call last)",
            "\u001b[0;32m<ipython-input-81-e270b96106f3>\u001b[0m in \u001b[0;36m<cell line: 1>\u001b[0;34m()\u001b[0m\n\u001b[0;32m----> 1\u001b[0;31m \u001b[0mx\u001b[0m\u001b[0;34m[\u001b[0m\u001b[0;36m1\u001b[0m\u001b[0;34m]\u001b[0m\u001b[0;34m[\u001b[0m\u001b[0;36m1\u001b[0m\u001b[0;34m]\u001b[0m\u001b[0;34m[\u001b[0m\u001b[0;36m1\u001b[0m\u001b[0;34m]\u001b[0m\u001b[0;34m\u001b[0m\u001b[0;34m\u001b[0m\u001b[0m\n\u001b[0m",
            "\u001b[0;31mIndexError\u001b[0m: index 1 is out of bounds for dimension 0 with size 1"
          ]
        }
      ]
    },
    {
      "cell_type": "code",
      "source": [
        "x[0][1][1]"
      ],
      "metadata": {
        "colab": {
          "base_uri": "https://localhost:8080/"
        },
        "id": "SvBN3xTklZml",
        "outputId": "ebea1c66-ee04-4664-c083-762c8f35af78"
      },
      "execution_count": 78,
      "outputs": [
        {
          "output_type": "execute_result",
          "data": {
            "text/plain": [
              "tensor(5)"
            ]
          },
          "metadata": {},
          "execution_count": 78
        }
      ]
    },
    {
      "cell_type": "code",
      "source": [
        "#you can also use :  to select 'all' of a target dimension\n",
        "x[:,0]"
      ],
      "metadata": {
        "colab": {
          "base_uri": "https://localhost:8080/"
        },
        "id": "yl1bjnE3lbyD",
        "outputId": "50a30b01-64be-4ae5-a6a1-8eb7e3088129"
      },
      "execution_count": 79,
      "outputs": [
        {
          "output_type": "execute_result",
          "data": {
            "text/plain": [
              "tensor([[1, 2, 3]])"
            ]
          },
          "metadata": {},
          "execution_count": 79
        }
      ]
    },
    {
      "cell_type": "code",
      "source": [
        "#get all values of 0th and 1st dimensions but index  1 of 2nd dimension\n",
        "x[:,:,1]"
      ],
      "metadata": {
        "colab": {
          "base_uri": "https://localhost:8080/"
        },
        "id": "vqkSjp6KlzBN",
        "outputId": "9c7ba31c-36eb-4985-8b69-30241006bff2"
      },
      "execution_count": 80,
      "outputs": [
        {
          "output_type": "execute_result",
          "data": {
            "text/plain": [
              "tensor([[2, 5, 8]])"
            ]
          },
          "metadata": {},
          "execution_count": 80
        }
      ]
    },
    {
      "cell_type": "markdown",
      "source": [
        "#pytorch and Numpy"
      ],
      "metadata": {
        "id": "tkCYdsN_mJrh"
      }
    },
    {
      "cell_type": "markdown",
      "source": [
        "#data in numpy , want in pyTorch tensor ->  torch.from_numpy(ndarray)\n",
        "\n",
        "#pytorch tensor -> Numpy -> torch.Tensor.numpy()"
      ],
      "metadata": {
        "id": "VR4hRiPxmnPJ"
      }
    },
    {
      "cell_type": "code",
      "source": [
        "import torch\n",
        "import numpy as np\n",
        "\n",
        "array = np.arange(1.0, 8.0)\n",
        "tensor=torch.from_numpy(array)\n",
        "array, tensor"
      ],
      "metadata": {
        "colab": {
          "base_uri": "https://localhost:8080/"
        },
        "id": "pT_9u5Y2nIGJ",
        "outputId": "a6e82f4f-eca5-4193-8351-74ba6861dea7"
      },
      "execution_count": 50,
      "outputs": [
        {
          "output_type": "execute_result",
          "data": {
            "text/plain": [
              "(array([1., 2., 3., 4., 5., 6., 7.]),\n",
              " tensor([1., 2., 3., 4., 5., 6., 7.], dtype=torch.float64))"
            ]
          },
          "metadata": {},
          "execution_count": 50
        }
      ]
    },
    {
      "cell_type": "code",
      "source": [
        "array.dtype"
      ],
      "metadata": {
        "colab": {
          "base_uri": "https://localhost:8080/"
        },
        "id": "bZvw6eTonh0m",
        "outputId": "6cc6932c-6051-49db-b86e-2c0490cb1bb7"
      },
      "execution_count": 51,
      "outputs": [
        {
          "output_type": "execute_result",
          "data": {
            "text/plain": [
              "dtype('float64')"
            ]
          },
          "metadata": {},
          "execution_count": 51
        }
      ]
    },
    {
      "cell_type": "code",
      "source": [
        "torch.arange(1.0,8.0).dtype"
      ],
      "metadata": {
        "colab": {
          "base_uri": "https://localhost:8080/"
        },
        "id": "X7QGGVy_nl0A",
        "outputId": "7d370725-c6f6-40d6-fa97-242f2ed6abe6"
      },
      "execution_count": 52,
      "outputs": [
        {
          "output_type": "execute_result",
          "data": {
            "text/plain": [
              "torch.float32"
            ]
          },
          "metadata": {},
          "execution_count": 52
        }
      ]
    },
    {
      "cell_type": "code",
      "source": [
        "array=array+1\n",
        "array,tensor\n"
      ],
      "metadata": {
        "colab": {
          "base_uri": "https://localhost:8080/"
        },
        "id": "9xA5L55FnrBQ",
        "outputId": "56bc331a-07ee-414c-d2d5-e255dcf42cb1"
      },
      "execution_count": 82,
      "outputs": [
        {
          "output_type": "execute_result",
          "data": {
            "text/plain": [
              "(array([2., 3., 4., 5., 6., 7., 8.]),\n",
              " tensor([1., 2., 3., 4., 5., 6., 7.], dtype=torch.float64))"
            ]
          },
          "metadata": {},
          "execution_count": 82
        }
      ]
    },
    {
      "cell_type": "code",
      "source": [
        "#tensor to Numpy array\n",
        "tensor = torch.ones(7)\n",
        "numpy_tensor = tensor.numpy()\n",
        "tensor,numpy_tensor"
      ],
      "metadata": {
        "colab": {
          "base_uri": "https://localhost:8080/"
        },
        "id": "OF94CJ7CK3w3",
        "outputId": "ffd946a7-9a36-4da1-9aba-ea76013c57c2"
      },
      "execution_count": 83,
      "outputs": [
        {
          "output_type": "execute_result",
          "data": {
            "text/plain": [
              "(tensor([1., 1., 1., 1., 1., 1., 1.]),\n",
              " array([1., 1., 1., 1., 1., 1., 1.], dtype=float32))"
            ]
          },
          "metadata": {},
          "execution_count": 83
        }
      ]
    },
    {
      "cell_type": "code",
      "source": [
        "tensor = tensor+1\n",
        "tensor,numpy_tensor"
      ],
      "metadata": {
        "colab": {
          "base_uri": "https://localhost:8080/"
        },
        "id": "ujmFw04ZLJGj",
        "outputId": "fd84b5de-effc-4315-c677-52dabfc2f0bf"
      },
      "execution_count": 84,
      "outputs": [
        {
          "output_type": "execute_result",
          "data": {
            "text/plain": [
              "(tensor([2., 2., 2., 2., 2., 2., 2.]),\n",
              " array([1., 1., 1., 1., 1., 1., 1.], dtype=float32))"
            ]
          },
          "metadata": {},
          "execution_count": 84
        }
      ]
    },
    {
      "cell_type": "code",
      "source": [],
      "metadata": {
        "id": "5gxymXVOLTa0"
      },
      "execution_count": null,
      "outputs": []
    }
  ]
}